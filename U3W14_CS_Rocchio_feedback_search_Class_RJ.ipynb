{
  "nbformat": 4,
  "nbformat_minor": 0,
  "metadata": {
    "colab": {
      "name": "U3W14_CS_Rocchio_feedback_search_Class_RJ.ipynb",
      "provenance": [],
      "collapsed_sections": [],
      "include_colab_link": true
    },
    "kernelspec": {
      "display_name": "Python 3",
      "language": "python",
      "name": "python3"
    }
  },
  "cells": [
    {
      "cell_type": "markdown",
      "metadata": {
        "id": "view-in-github",
        "colab_type": "text"
      },
      "source": [
        "<a href=\"https://colab.research.google.com/github/RahulJuluru2/LectureLabNotes/blob/main/U3W14_CS_Rocchio_feedback_search_Class_RJ.ipynb\" target=\"_parent\"><img src=\"https://colab.research.google.com/assets/colab-badge.svg\" alt=\"Open In Colab\"/></a>"
      ]
    },
    {
      "cell_type": "markdown",
      "metadata": {
        "id": "8YaqWn-bOGT4"
      },
      "source": [
        "# Advanced Certification in AIML\n",
        "## A Program by IIIT-H and TalentSprint"
      ]
    },
    {
      "cell_type": "markdown",
      "metadata": {
        "id": "VpqzqfEYRnDE"
      },
      "source": [
        "### Not for Grading"
      ]
    },
    {
      "cell_type": "markdown",
      "metadata": {
        "id": "lb-c0Elacafg"
      },
      "source": [
        "### Rocchio feedback search updated (Pseudo feedback and Query Expansion)"
      ]
    },
    {
      "cell_type": "code",
      "metadata": {
        "id": "QkMXs2EHcfSf",
        "cellView": "form",
        "colab": {
          "base_uri": "https://localhost:8080/",
          "height": 262
        },
        "outputId": "fe7be24d-6b40-4528-efad-ab1e46e52447"
      },
      "source": [
        "#@title Case Study Walkthrough\n",
        "#@markdown   Rocchio feedback search updated (Pseudo feedback and Query Expansion)\n",
        "from IPython.display import HTML\n",
        "\n",
        "HTML(\"\"\"<video width=\"320\" height=\"240\" controls>\n",
        "  <source src=\"https://cdn.talentsprint.com/talentsprint/archives/sc/aiml/aiml_2018_b7_hyd/preview_videos/rocchio_feedback_search.mp4\">\n",
        "</video>\n",
        "\"\"\")"
      ],
      "execution_count": 1,
      "outputs": [
        {
          "output_type": "execute_result",
          "data": {
            "text/plain": [
              "<IPython.core.display.HTML object>"
            ],
            "text/html": [
              "<video width=\"320\" height=\"240\" controls>\n",
              "  <source src=\"https://cdn.talentsprint.com/talentsprint/archives/sc/aiml/aiml_2018_b7_hyd/preview_videos/rocchio_feedback_search.mp4\">\n",
              "</video>\n"
            ]
          },
          "metadata": {},
          "execution_count": 1
        }
      ]
    },
    {
      "cell_type": "markdown",
      "metadata": {
        "id": "0QNf03Q3OGQw"
      },
      "source": [
        "### Setup Steps:"
      ]
    },
    {
      "cell_type": "code",
      "metadata": {
        "id": "UGM-zNUCegU8"
      },
      "source": [
        "#@title Please enter your registration id to start: (e.g. P181900101) { run: \"auto\", display-mode: \"form\" }\n",
        "Id = \"2216842\" #@param {type:\"string\"}\n"
      ],
      "execution_count": 2,
      "outputs": []
    },
    {
      "cell_type": "code",
      "metadata": {
        "id": "-rXhGpQiegVc"
      },
      "source": [
        "#@title Please enter your password (normally your phone number) to continue: { run: \"auto\", display-mode: \"form\" }\n",
        "password = \"9959488784\" #@param {type:\"string\"}\n"
      ],
      "execution_count": 3,
      "outputs": []
    },
    {
      "cell_type": "code",
      "metadata": {
        "id": "QRvlfkw5rV_Q",
        "cellView": "form",
        "colab": {
          "base_uri": "https://localhost:8080/",
          "height": 34
        },
        "outputId": "1669c6c2-4b3c-4374-87c2-c924aaa75c0f"
      },
      "source": [
        "#@title Run this cell to complete the setup for this Notebook\n",
        "from IPython import get_ipython\n",
        "\n",
        "ipython = get_ipython()\n",
        "  \n",
        "notebook= \"U3W14_CS_Rocchio_feedback_search\" #name of the notebook\n",
        "Answer = \"Ungraded\"\n",
        "def setup():\n",
        "    ipython.magic(\"sx wget https://cdn.talentsprint.com/aiml/CaseStudies/feedback_search.zip\")  \n",
        "    ipython.magic(\"sx unzip feedback_search.zip\")\n",
        "    from IPython.display import HTML, display\n",
        "    display(HTML('<script src=\"https://dashboard.talentsprint.com/aiml/record_ip.html?traineeId={0}&recordId={1}\"></script>'.format(getId(),submission_id)))\n",
        "    print(\"Setup completed successfully\")\n",
        "    return\n",
        "\n",
        "def submit_notebook():\n",
        "    \n",
        "    ipython.magic(\"notebook -e \"+ notebook + \".ipynb\")\n",
        "    \n",
        "    import requests, json, base64, datetime\n",
        "\n",
        "    url = \"https://dashboard.talentsprint.com/xp/app/save_notebook_attempts\"\n",
        "    if not submission_id:\n",
        "      data = {\"id\" : getId(), \"notebook\" : notebook, \"mobile\" : getPassword()}\n",
        "      r = requests.post(url, data = data)\n",
        "      r = json.loads(r.text)\n",
        "\n",
        "      if r[\"status\"] == \"Success\":\n",
        "          return r[\"record_id\"]\n",
        "      elif \"err\" in r:        \n",
        "        print(r[\"err\"])\n",
        "        return None        \n",
        "      else:\n",
        "        print (\"Something is wrong, the notebook will not be submitted for grading\")\n",
        "        return None\n",
        "\n",
        "    elif getAnswer() and getComplexity() and getAdditional() and getConcepts():\n",
        "      f = open(notebook + \".ipynb\", \"rb\")\n",
        "      file_hash = base64.b64encode(f.read())\n",
        "\n",
        "      data = {\"complexity\" : Complexity, \"additional\" :Additional, \n",
        "              \"concepts\" : Concepts, \"record_id\" : submission_id, \n",
        "              \"answer\" : Answer, \"id\" : Id, \"file_hash\" : file_hash,\n",
        "              \"feedback_experiments_input\" : Comments, \"notebook\" : notebook}\n",
        "\n",
        "      r = requests.post(url, data = data)\n",
        "      r = json.loads(r.text)\n",
        "      if \"err\" in r:        \n",
        "        print(r[\"err\"])\n",
        "        return None   \n",
        "      else:\n",
        "        print(\"Your submission is successful.\")\n",
        "        print(\"Ref Id:\",submission_id)\n",
        "        print(\"Date of submission: \",r[\"date\"])\n",
        "        print(\"Time of submission: \", r[\"time\"])\n",
        "        print(\"View your submissions: https://aiml.iiith.talentsprint.com/notebook_submissions\")\n",
        "        # print(\"For any queries/discrepancies, please connect with mentors through the chat icon in LMS dashboard.\")\n",
        "      return submission_id\n",
        "    else: submission_id\n",
        "    \n",
        "\n",
        "def getAdditional():\n",
        "  try:\n",
        "    if not Additional: \n",
        "      raise NameError\n",
        "    else:\n",
        "      return Additional  \n",
        "  except NameError:\n",
        "    print (\"Please answer Additional Question\")\n",
        "    return None\n",
        "def getComments():\n",
        "  try:\n",
        "    if not Comments:\n",
        "      raise NameError\n",
        "    else:\n",
        "      return Comments\n",
        "  except NameError:\n",
        "    print (\"Please answer Comments Question\")\n",
        "    return None\n",
        "\n",
        "def getComplexity():\n",
        "  try:\n",
        "    if not Complexity:\n",
        "      raise NameError\n",
        "    else:\n",
        "      return Complexity\n",
        "  except NameError:\n",
        "    print (\"Please answer Complexity Question\")\n",
        "    return None\n",
        "  \n",
        "def getConcepts():\n",
        "  try:\n",
        "    if not Concepts:\n",
        "      raise NameError\n",
        "    else:\n",
        "      return Concepts\n",
        "  except NameError:\n",
        "    print (\"Please answer Concepts Question\")\n",
        "    return None\n",
        "\n",
        "def getAnswer():\n",
        "  try:\n",
        "    if not Answer:\n",
        "      raise NameError \n",
        "    else: \n",
        "      return Answer\n",
        "  except NameError:\n",
        "    print (\"Please answer Question\")\n",
        "    return None\n",
        "\n",
        "def getId():\n",
        "  try: \n",
        "    return Id if Id else None\n",
        "  except NameError:\n",
        "    return None\n",
        "\n",
        "def getPassword():\n",
        "  try:\n",
        "    return password if password else None\n",
        "  except NameError:\n",
        "    return None\n",
        "\n",
        "submission_id = None\n",
        "### Setup \n",
        "if getPassword() and getId():\n",
        "  submission_id = submit_notebook()\n",
        "  if submission_id:\n",
        "    setup()\n",
        "    \n",
        "else:\n",
        "  print (\"Please complete Id and Password cells before running setup\")\n"
      ],
      "execution_count": 4,
      "outputs": [
        {
          "output_type": "display_data",
          "data": {
            "text/plain": [
              "<IPython.core.display.HTML object>"
            ],
            "text/html": [
              "<script src=\"https://dashboard.talentsprint.com/aiml/record_ip.html?traineeId=2216842&recordId=2286\"></script>"
            ]
          },
          "metadata": {}
        },
        {
          "output_type": "stream",
          "name": "stdout",
          "text": [
            "Setup completed successfully\n"
          ]
        }
      ]
    },
    {
      "cell_type": "code",
      "metadata": {
        "id": "2sCIol2y64Qr",
        "colab": {
          "base_uri": "https://localhost:8080/"
        },
        "outputId": "d325354e-02fc-4ba7-d6b0-6526f5f3d9f8"
      },
      "source": [
        "%cd feedback_search/"
      ],
      "execution_count": 5,
      "outputs": [
        {
          "output_type": "stream",
          "name": "stdout",
          "text": [
            "/content/feedback_search\n"
          ]
        }
      ]
    },
    {
      "cell_type": "code",
      "metadata": {
        "id": "mkW__ryEFdaJ",
        "colab": {
          "base_uri": "https://localhost:8080/"
        },
        "outputId": "e8bf0d4a-3416-4168-90d9-392e927cc63c"
      },
      "source": [
        "%ls"
      ],
      "execution_count": 6,
      "outputs": [
        {
          "output_type": "stream",
          "name": "stdout",
          "text": [
            "config.py            __init__.py                 \u001b[0m\u001b[01;34m__pycache__\u001b[0m/\n",
            "constants.py         \u001b[01;34mlogs\u001b[0m/                       query.py\n",
            "constants_tuning.py  __main__.py                 \u001b[01;34mresources\u001b[0m/\n",
            "enhance_query.py     mock_feedback.py            Rocchio_feedback_search.ipynb\n",
            "feedback.py          mock_query_and_scraping.py  scrape.py\n",
            "index.py             preprocess.py               \u001b[01;34mtests\u001b[0m/\n"
          ]
        }
      ]
    },
    {
      "cell_type": "markdown",
      "metadata": {
        "id": "_MK8hQAzPZ0b"
      },
      "source": [
        "##Implementing Rocchio feedback  search\n",
        "\n",
        "Implementation of an information retrieval system that exploits user-provided relevance feedback to improve the search results returned by Google.\n"
      ]
    },
    {
      "cell_type": "markdown",
      "metadata": {
        "id": "SPG60Z3FqLSv"
      },
      "source": [
        "## Import required packages"
      ]
    },
    {
      "cell_type": "code",
      "metadata": {
        "id": "Z_Ct1Por8q1U",
        "scrolled": false
      },
      "source": [
        "import sys\n",
        "import logging\n",
        "import threading\n",
        "import os\n",
        "import mock_feedback, mock_query_and_scraping\n",
        "import query as query_file\n",
        "import feedback\n",
        "import enhance_query\n",
        "import index\n",
        "import scrape\n",
        "import preprocess\n",
        "import constants"
      ],
      "execution_count": 7,
      "outputs": []
    },
    {
      "cell_type": "markdown",
      "metadata": {
        "id": "rBHNawFSso_T"
      },
      "source": [
        "## Setting up the logging for the feedback application with the required parameters"
      ]
    },
    {
      "cell_type": "code",
      "metadata": {
        "id": "-AwnlCosLyRz"
      },
      "source": [
        "# Create a logger\n",
        "logger = logging.getLogger('feedback_search')\n",
        "# Do not log in console\n",
        "logger.propagate = False\n",
        "# Create directory for logs if it's not there already\n",
        "os.makedirs('logs', exist_ok=True) \n",
        "# Create handler\n",
        "handler = logging.FileHandler('logs/feedback_search.log')\n",
        "# Create formatter and add it to handler\n",
        "formatter = logging.Formatter(\n",
        "    fmt='[%(asctime)s %(levelname)s]\\t%(message)s',\n",
        "    datefmt='%d-%m-%Y %H:%M:%S')\n",
        "handler.setFormatter(formatter)\n",
        "# Add handler to the logger\n",
        "logger.addHandler(handler)\n",
        "# Create a set level to get INFO\n",
        "logger.setLevel(logging.INFO)"
      ],
      "execution_count": 8,
      "outputs": []
    },
    {
      "cell_type": "markdown",
      "metadata": {
        "id": "hzvn58bwL6UH"
      },
      "source": [
        "For more information on logging module. Click on this [link](https://realpython.com/python-logging/).\n",
        "\n",
        "**Note:** The below code executes untill it meets the precision value."
      ]
    },
    {
      "cell_type": "code",
      "metadata": {
        "id": "Fc6ymzutLy99",
        "colab": {
          "base_uri": "https://localhost:8080/"
        },
        "outputId": "6da20a7c-36b4-40fd-8ca2-32c63ab37e31"
      },
      "source": [
        "def main(query, precision=0.8, is_test=False):\n",
        "    \"\"\"\n",
        "    Main routine, \n",
        "    Takes initial query and target_precision provided as input,\n",
        "    Until target_precision is achieved:\n",
        "        Runs enhanced query, asks user's feedback, computes new precision.\n",
        "    \"\"\"\n",
        "\n",
        "    try:\n",
        "        target_precision = float(precision)\n",
        "    except ValueError:\n",
        "        print('<precision> must be a float between 0 and 1 !')\n",
        "        return\n",
        "\n",
        "    if target_precision > 1 or target_precision <0:\n",
        "        print('<precision> must be a float between 0 and 1 !')\n",
        "        return\n",
        "\n",
        "    logger.info('\\n\\n ========================================================================\\n\\n')\n",
        "    logger.info('[MAIN]\\t\\t Started with args: QUERY = %s, PRECISION = %s', query, target_precision)\n",
        "\n",
        "    #import pdb; pdb.set_trace()\n",
        "    achieved_precision = 0\n",
        "\n",
        "    # Build one index for each zone of the documents (see enhance_query):\n",
        "    indexers = {zone: index.UnigramIndexer(zone) for zone in ['title', 'summary', 'content']}\n",
        "    bigram_indexers = {zone: index.BigramIndexer(zone) for zone in ['title', 'summary', 'content']}\n",
        "\n",
        "    query_optimizer = enhance_query.RocchioQueryOptimizer()\n",
        "\n",
        "    while (achieved_precision < target_precision):\n",
        "        logger.info('[MAIN]\\t\\t achieved precision = %s vs target precision = %s, optimizing...', achieved_precision, target_precision)\n",
        "        print('Parameters:')\n",
        "        print('Query = {}'.format(query))\n",
        "        print('Precision = {}'.format(target_precision))\n",
        "        print('')\n",
        "        \n",
        "        if not is_test:\n",
        "            results = query_file.query_google(query)\n",
        "\n",
        "            # Fetch the whole documents by scraping the urls in results, as a background task\n",
        "            scraping_thread = threading.Thread(target=scrape.add_url_content, args=(query, results))\n",
        "            scraping_thread.start()\n",
        "\n",
        "            if len(results) < 10:\n",
        "                print('Too few results, aborting...')\n",
        "                break\n",
        "\n",
        "            # Ask feedback to user, store feedback in results dict directly\n",
        "            feedback.ask_feedback(results)\n",
        "            scraping_thread.join() # make sure all the documents have been scrapped\n",
        "\n",
        "        elif is_test:\n",
        "            results = mock_query_and_scraping.load_query_results(query)\n",
        "            mock_feedback.mock_feedback(results, query=query)\n",
        "\n",
        "        relevant = [doc['id'] for doc in results if doc['relevant']]\n",
        "        non_relevant = [doc['id'] for doc in results if not doc['relevant']]\n",
        "        achieved_precision = len(relevant)/len(results) if results else 0\n",
        "\n",
        "        if achieved_precision == 0:\n",
        "            print('Precision@10 is 0, aborting...')\n",
        "            break\n",
        "\n",
        "        logger.info('[MAIN]\\t\\t orginal query: %s', query)\n",
        "        query = preprocess.split_remove_punctuation(query)\n",
        "        if constants.USE_STEMMING:\n",
        "            query = preprocess.stem(query)\n",
        "        logger.info('[MAIN]\\t\\t preprocessed query: %s', query)\n",
        "\n",
        "        indexing_threads = []\n",
        "        for zone in indexers:\n",
        "            indexers[zone].reset()\n",
        "            t = threading.Thread(target=indexers[zone].index, args=(results, query))\n",
        "            t.start()\n",
        "            indexing_threads.append(t)\n",
        "        \n",
        "        for zone in bigram_indexers:\n",
        "            bigram_indexers[zone].reset()\n",
        "            t = threading.Thread(target=bigram_indexers[zone].index, args=(results, query))\n",
        "            t.start()\n",
        "            indexing_threads.append(t)\n",
        "\n",
        "        for t in indexing_threads:\n",
        "            t.join()\n",
        "\n",
        "        print('Achieved precision: ', achieved_precision)\n",
        "\n",
        "        query = query_optimizer.enhance(query, indexers, relevant, non_relevant, bigram_indexers=bigram_indexers)\n",
        "\n",
        "        if is_test:\n",
        "            # in tests we do Only run one of the query optimizer with mock feedback and analyze it\n",
        "            return query\n",
        "\n",
        "if __name__ == '__main__':\n",
        "    main('research library journal study', precision=0.9)"
      ],
      "execution_count": 9,
      "outputs": [
        {
          "output_type": "stream",
          "name": "stdout",
          "text": [
            "Parameters:\n",
            "Query = research library journal study\n",
            "Precision = 0.9\n",
            "\n",
            "Google Search Results:\n",
            "======================\n",
            "Result  1\n",
            "[\n",
            "URL:  https://library.csus.edu/\n",
            "Title:  Sac State Library: Home\n",
            "Summary:  Book a Research Appointment · Schedule Library Instruction · Research Guides & Library How-To · Contact a Subject Librarian ... Study Rooms Icon ...\n",
            "] \n",
            "\n",
            "Relevant (Y/N)?N\n",
            "Result  2\n",
            "[\n",
            "URL:  https://www.law.georgetown.edu/library/\n",
            "Title:  Georgetown Law Library\n",
            "Summary:  Law Library Catalog + Articles ... Georgetown U. + Local Academic Libraries. Course Reserves ... Journal Staff Guide · For New Students · Group Study Rooms ...\n",
            "] \n",
            "\n",
            "Relevant (Y/N)?Y\n",
            "Result  3\n",
            "[\n",
            "URL:  https://library.georgetown.edu/\n",
            "Title:  Georgetown University Library: Home Page\n",
            "Summary:  Develop Skills with LinkedIn Learning · Students at a button-making event in front of the library ... Bioethics Research Library\n",
            "] \n",
            "\n",
            "Relevant (Y/N)?N\n",
            "Result  4\n",
            "[\n",
            "URL:  https://www.wakegov.com/departments-government/libraries/research-learn\n",
            "Title:  Research & Learn | Wake County Government\n",
            "Summary:  To learn how to conduct research at your library check out our guide. ... such as encyclopedia articles, academic journals and magazine/newspaper articles.\n",
            "] \n",
            "\n",
            "Relevant (Y/N)?N\n",
            "Result  5\n",
            "[\n",
            "URL:  https://libraries.indiana.edu/\n",
            "Title:  Indiana University Libraries\n",
            "Summary:  Research help, resources, and information from the Indiana University Bloomington Libraries.\n",
            "] \n",
            "\n",
            "Relevant (Y/N)?N\n",
            "Result  6\n",
            "[\n",
            "URL:  https://library.gsu.edu/\n",
            "Title:  Georgia State University Library\n",
            "Summary:  Discover, Library Catalog, Journals, Research Guides. SEARCH. Explore multiple library resources with one search. Advanced Discover Search ...\n",
            "] \n",
            "\n",
            "Relevant (Y/N)?Y\n",
            "Result  7\n",
            "[\n",
            "URL:  https://ulib.iupui.edu/\n",
            "Title:  University Library Website | University Library\n",
            "Summary:  University Library Website. OneSearch; IUCAT; Databases; Journals; Articles; Site ... Mahasin S. Ameen, Teaching and Learning Librarian\n",
            "] \n",
            "\n",
            "Relevant (Y/N)?Y\n",
            "Result  8\n",
            "[\n",
            "URL:  https://www.library.ucsf.edu/\n",
            "Title:  UCSF Library: Home\n",
            "Summary:  The academic health sciences library at UCSF. ... Lunch and LeaRn with DSI: Working with APIs 11:05am - 12:30pm Thursday, Aug 11 2022; Needlecraft Monthly ...\n",
            "] \n",
            "\n",
            "Relevant (Y/N)?Y\n",
            "Result  9\n",
            "[\n",
            "URL:  https://tamucc.edu/library/\n",
            "Title:  Mary and Jeff Bell Library | Library | Texas A&M University-Corpus ...\n",
            "Summary:  Full-text online. Databases Research Guides Journals Course Reserves ... The best way to keep up to date with the library, learn about library res... more ...\n",
            "] \n",
            "\n",
            "Relevant (Y/N)?Y\n",
            "Result  10\n",
            "[\n",
            "URL:  https://www.augusta.edu/library/reese/\n",
            "Title:  Reese Library\n",
            "Summary:  Reese Library's Special Collections is currently open Mondays and Thursdays from 8:00 AM ... Book a Study Room ... The Research Assignment Calculator (TRAC).\n",
            "] \n",
            "\n",
            "Relevant (Y/N)?EXIT\n",
            "Please type in Y or N (or y or n)\n",
            "Relevant (Y/N)?N\n",
            "Achieved precision:  0.5\n",
            "Parameters:\n",
            "Query = journal study library databases research search\n",
            "Precision = 0.9\n",
            "\n",
            "Google Search Results:\n",
            "======================\n",
            "Result  1\n",
            "[\n",
            "URL:  https://pubmed.ncbi.nlm.nih.gov/\n",
            "Title:  PubMed\n",
            "Summary:  PubMed® comprises more than 34 million citations for biomedical literature from MEDLINE, life science journals, and online books.\n",
            "] \n",
            "\n",
            "Relevant (Y/N)?N\n",
            "Result  2\n",
            "[\n",
            "URL:  https://www.tmcc.edu/library/databases\n",
            "Title:  Databases and Journals - Library - Truckee Meadows Community ...\n",
            "Summary:  List of online databases and journals provided by the TMCC library. ... View this Quick Start Guide to learn how to search their new interface.\n",
            "] \n",
            "\n",
            "Relevant (Y/N)?Y\n",
            "Result  3\n",
            "[\n",
            "URL:  https://ulib.iupui.edu/\n",
            "Title:  University Library Website | University Library\n",
            "Summary:  OneSearch · IUCAT · Databases · Journals · Articles · Site.\n",
            "] \n",
            "\n",
            "Relevant (Y/N)?Y\n",
            "Result  4\n",
            "[\n",
            "URL:  https://www.law.georgetown.edu/library/databases/\n",
            "Title:  Databases | Georgetown Law Library | Georgetown Law\n",
            "Summary:  Coverage goes as far back as 1886. Additional full text, non-journal content includes financial data, case studies, investment research reports, market research ...\n",
            "] \n",
            "\n",
            "Relevant (Y/N)?Y\n",
            "Result  5\n",
            "[\n",
            "URL:  https://lib.asu.edu/find-articles\n",
            "Title:  Find articles | ASU Library\n",
            "Summary:  Or search a database directly... See all research databases A specific article... Use Library One Search ... Browse or search journals in Library One Search.\n",
            "] \n",
            "\n",
            "Relevant (Y/N)?Y\n",
            "Result  6\n",
            "[\n",
            "URL:  https://www.law.georgetown.edu/library/\n",
            "Title:  Georgetown Law Library\n",
            "Summary:  Georgetown U. + Local Academic Libraries. Course Reserves. Advanced Search. Search ... Journal Staff Guide · For New Students · Group Study Rooms ...\n",
            "] \n",
            "\n",
            "Relevant (Y/N)?Y\n",
            "Result  7\n",
            "[\n",
            "URL:  https://library.csus.edu/\n",
            "Title:  Sac State Library: Home\n",
            "Summary:  Book a Research Appointment · Schedule Library Instruction · Research Guides & Library How-To ... Database Icon · Databases · Study Rooms Icon ...\n",
            "] \n",
            "\n",
            "Relevant (Y/N)?Y\n",
            "Result  8\n",
            "[\n",
            "URL:  https://www.franklin.edu/learning-commons/library\n",
            "Title:  Library | Franklin University\n",
            "Summary:  Use our databases to find relevant information to successfully complete your ... Journals. Find journals related to your specific research. Learn More.\n",
            "] \n",
            "\n",
            "Relevant (Y/N)?Y\n",
            "Result  9\n",
            "[\n",
            "URL:  https://library.wustl.edu/\n",
            "Title:  Home - University Libraries | Washington University in St. Louis\n",
            "Summary:  Primary search of the Libraries' holdings including books, journals, periodicals, ... Learn more about the Libraries' search tools and research guides to ...\n",
            "] \n",
            "\n",
            "Relevant (Y/N)?Y\n",
            "Result  10\n",
            "[\n",
            "URL:  http://www.bcc.cuny.edu/library/\n",
            "Title:  Library – Bronx Community College\n",
            "Summary:  Search our online databases, A to Z Databases or Databases by Subject. ... and faculty to study, do research, and engage in other academic pursuits.\n",
            "] \n",
            "\n",
            "Relevant (Y/N)?Y\n",
            "Achieved precision:  0.9\n"
          ]
        }
      ]
    },
    {
      "cell_type": "markdown",
      "metadata": {
        "id": "tC2rt1ZxrgC7"
      },
      "source": [
        "# Please answer the questions below to complete the experiment:"
      ]
    },
    {
      "cell_type": "code",
      "metadata": {
        "id": "NMzKSbLIgFzQ"
      },
      "source": [
        "#@title How was the experiment? { run: \"auto\", form-width: \"500px\", display-mode: \"form\" }\n",
        "Complexity = \"Good and Challenging for me\" #@param [\"\",\"Too Simple, I am wasting time\", \"Good, But Not Challenging for me\", \"Good and Challenging for me\", \"Was Tough, but I did it\", \"Too Difficult for me\"]\n"
      ],
      "execution_count": 10,
      "outputs": []
    },
    {
      "cell_type": "code",
      "metadata": {
        "id": "DjcH1VWSFI2l"
      },
      "source": [
        "#@title If it was too easy, what more would you have liked to be added? If it was very difficult, what would you have liked to have been removed? { run: \"auto\", display-mode: \"form\" }\n",
        "Additional = \"Everything is good\" #@param {type:\"string\"}\n"
      ],
      "execution_count": 11,
      "outputs": []
    },
    {
      "cell_type": "code",
      "metadata": {
        "id": "_cTetkuegP7d"
      },
      "source": [
        "#@title Can you identify the concepts from the lecture which this experiment covered? { run: \"auto\", vertical-output: true, display-mode: \"form\" }\n",
        "Concepts = \"Yes\" #@param [\"\",\"Yes\", \"No\"]"
      ],
      "execution_count": 12,
      "outputs": []
    },
    {
      "cell_type": "code",
      "metadata": {
        "id": "QFQw0ddId_Ej"
      },
      "source": [
        "#@title  Text and image description/explanation and code comments within the experiment: { run: \"auto\", vertical-output: true, display-mode: \"form\" }\n",
        "Comments = \"Very Useful\" #@param [\"\",\"Very Useful\", \"Somewhat Useful\", \"Not Useful\", \"Didn't use\"]\n"
      ],
      "execution_count": 13,
      "outputs": []
    },
    {
      "cell_type": "code",
      "metadata": {
        "cellView": "form",
        "id": "-CXztFuygSBG",
        "colab": {
          "base_uri": "https://localhost:8080/"
        },
        "outputId": "e405f6d5-9061-4e67-9950-488b92166754"
      },
      "source": [
        "#@title Run this cell to submit your notebook  { vertical-output: true }\n",
        "try:\n",
        "  if submission_id:\n",
        "      return_id = submit_notebook()\n",
        "      if return_id : submission_id =return_id\n",
        "  else:\n",
        "      print(\"Please complete the setup first.\")\n",
        "except NameError:\n",
        "  print (\"Please complete the setup first.\")"
      ],
      "execution_count": 14,
      "outputs": [
        {
          "output_type": "stream",
          "name": "stdout",
          "text": [
            "Your submission is successful.\n",
            "Ref Id: 2286\n",
            "Date of submission:  14 Aug 2022\n",
            "Time of submission:  16:15:41\n",
            "View your submissions: https://aiml.iiith.talentsprint.com/notebook_submissions\n"
          ]
        }
      ]
    }
  ]
}